{
 "cells": [
  {
   "cell_type": "code",
   "execution_count": 3,
   "metadata": {},
   "outputs": [
    {
     "name": "stdout",
     "output_type": "stream",
     "text": [
      "[[0. 0. 1. 1. 1.]\n",
      " [1. 1. 0. 1. 0.]\n",
      " [1. 0. 1. 1. 0.]\n",
      " [0. 0. 1. 1. 1.]\n",
      " [0. 1. 0. 0. 1.]]\n"
     ]
    }
   ],
   "source": [
    "import numpy as np\n",
    "dataset_filename=\"affinity_dataset.txt\"\n",
    "X=np.loadtxt(dataset_filename)\n",
    "print(X[:5])"
   ]
  },
  {
   "cell_type": "code",
   "execution_count": 4,
   "metadata": {},
   "outputs": [
    {
     "name": "stdout",
     "output_type": "stream",
     "text": [
      "['bread', 'milk', 'cheese', 'apples', 'bananas']\n"
     ]
    }
   ],
   "source": [
    "#The names of features(items)\n",
    "features=[\"bread\",\"milk\",\"cheese\",\"apples\",\"bananas\"]\n",
    "print(features)"
   ]
  },
  {
   "cell_type": "code",
   "execution_count": 5,
   "metadata": {},
   "outputs": [
    {
     "name": "stdout",
     "output_type": "stream",
     "text": [
      "36 people bought Apples\n"
     ]
    }
   ],
   "source": [
    "#Lets's find the support and confidence of the rule 'If a person buys apple, he is likely to buy banana'\n",
    "\n",
    "num_apple_purchases = 0 #counts total no. of apple purchased amongst 100 samples\n",
    "\n",
    "for sample in X:\n",
    "    if sample[3] == 1: #The person buys apple\n",
    "        num_apple_purchases+=1\n",
    "\n",
    "print(\"{0} people bought Apples\".format(num_apple_purchases))\n",
    "\n",
    "#This is support"
   ]
  },
  {
   "cell_type": "code",
   "execution_count": 6,
   "metadata": {},
   "outputs": [
    {
     "name": "stdout",
     "output_type": "stream",
     "text": [
      "21 rules are valid out of 36 cases where apple is bought\n",
      "15 rules are invalid out of 36 cases where apple is bought\n"
     ]
    }
   ],
   "source": [
    "rule_valid=0\n",
    "rule_invalid=0\n",
    "\n",
    "for sample in X:\n",
    "    if sample[3]==1:\n",
    "        if sample[4]==1:\n",
    "            rule_valid+=1 #Bought apple and banana\n",
    "        else:\n",
    "            rule_invalid+=1 #Bought apple but not banana\n",
    "\n",
    "print(\"{0} rules are valid out of {1} cases where apple is bought\".format(rule_valid,num_apple_purchases))\n",
    "print(\"{0} rules are invalid out of {1} cases where apple is bought\".format(rule_invalid,num_apple_purchases))\n",
    "            "
   ]
  },
  {
   "cell_type": "code",
   "execution_count": 7,
   "metadata": {},
   "outputs": [
    {
     "name": "stdout",
     "output_type": "stream",
     "text": [
      "The support is 21 and the confidence is 0.583.\n",
      "As a percentage, that is 58.3%.\n"
     ]
    }
   ],
   "source": [
    "# Now we have all the information needed to compute Support and Confidence\n",
    "support = rule_valid  # The Support is the number of times the rule is discovered.\n",
    "confidence = rule_valid / num_apple_purchases\n",
    "print(\"The support is {0} and the confidence is {1:.3f}.\".format(support, confidence))\n",
    "# Confidence can be thought of as a percentage using the following:\n",
    "print(\"As a percentage, that is {0:.1f}%.\".format(100 * confidence))"
   ]
  },
  {
   "cell_type": "code",
   "execution_count": 8,
   "metadata": {},
   "outputs": [
    {
     "name": "stdout",
     "output_type": "stream",
     "text": [
      "The dataset has 100 samples and 5 features.\n"
     ]
    }
   ],
   "source": [
    "n_samples,n_features=X.shape #X.shape returns no. rows and cols. \n",
    "print(\"The dataset has {0} samples and {1} features.\".format(n_samples,n_features))"
   ]
  },
  {
   "cell_type": "code",
   "execution_count": 9,
   "metadata": {},
   "outputs": [],
   "source": [
    "from collections import defaultdict\n",
    "\n",
    "valid_rules1 = defaultdict(int)\n",
    "invalid_rules1 = defaultdict(int)\n",
    "num_occurances = defaultdict(int)\n",
    "\n",
    "for sample in X:\n",
    "    for premise in range(n_features):\n",
    "        if sample[premise] == 0:\n",
    "            continue #Item is not bought,so go for next item\n",
    "        num_occurances[premise]+=1  #Item is bought\n",
    "        \n",
    "        for conclusion in range(n_features):\n",
    "            if premise == conclusion: #x->x \n",
    "                continue\n",
    "            \n",
    "            if sample[conclusion] == 1:\n",
    "                valid_rules1[(premise,conclusion)]+=1\n",
    "            else:\n",
    "                invalid_rules1[(premise,conclusion)]+=1\n",
    "                \n",
    "\n",
    "support1 = valid_rules1\n",
    "confidence1 = defaultdict(float)\n",
    "for premise,conclusion in valid_rules1.keys():\n",
    "    confidence1[(premise,conclusion)] = valid_rules1[(premise,conclusion)] / num_occurances[premise] "
   ]
  },
  {
   "cell_type": "code",
   "execution_count": 98,
   "metadata": {},
   "outputs": [
    {
     "name": "stdout",
     "output_type": "stream",
     "text": [
      "Rule: If a person buys cheese they will also buy apples\n",
      " - Confidence: 0.610\n",
      " - Support: 25\n",
      "\n",
      "Rule: If a person buys cheese they will also buy bananas\n",
      " - Confidence: 0.659\n",
      " - Support: 27\n",
      "\n",
      "Rule: If a person buys apples they will also buy cheese\n",
      " - Confidence: 0.694\n",
      " - Support: 25\n",
      "\n",
      "Rule: If a person buys apples they will also buy bananas\n",
      " - Confidence: 0.583\n",
      " - Support: 21\n",
      "\n",
      "Rule: If a person buys bananas they will also buy cheese\n",
      " - Confidence: 0.458\n",
      " - Support: 27\n",
      "\n",
      "Rule: If a person buys bananas they will also buy apples\n",
      " - Confidence: 0.356\n",
      " - Support: 21\n",
      "\n",
      "Rule: If a person buys bread they will also buy milk\n",
      " - Confidence: 0.519\n",
      " - Support: 14\n",
      "\n",
      "Rule: If a person buys bread they will also buy apples\n",
      " - Confidence: 0.185\n",
      " - Support: 5\n",
      "\n",
      "Rule: If a person buys milk they will also buy bread\n",
      " - Confidence: 0.304\n",
      " - Support: 14\n",
      "\n",
      "Rule: If a person buys milk they will also buy apples\n",
      " - Confidence: 0.196\n",
      " - Support: 9\n",
      "\n",
      "Rule: If a person buys apples they will also buy bread\n",
      " - Confidence: 0.139\n",
      " - Support: 5\n",
      "\n",
      "Rule: If a person buys apples they will also buy milk\n",
      " - Confidence: 0.250\n",
      " - Support: 9\n",
      "\n",
      "Rule: If a person buys bread they will also buy cheese\n",
      " - Confidence: 0.148\n",
      " - Support: 4\n",
      "\n",
      "Rule: If a person buys cheese they will also buy bread\n",
      " - Confidence: 0.098\n",
      " - Support: 4\n",
      "\n",
      "Rule: If a person buys milk they will also buy bananas\n",
      " - Confidence: 0.413\n",
      " - Support: 19\n",
      "\n",
      "Rule: If a person buys bananas they will also buy milk\n",
      " - Confidence: 0.322\n",
      " - Support: 19\n",
      "\n",
      "Rule: If a person buys bread they will also buy bananas\n",
      " - Confidence: 0.630\n",
      " - Support: 17\n",
      "\n",
      "Rule: If a person buys bananas they will also buy bread\n",
      " - Confidence: 0.288\n",
      " - Support: 17\n",
      "\n",
      "Rule: If a person buys milk they will also buy cheese\n",
      " - Confidence: 0.152\n",
      " - Support: 7\n",
      "\n",
      "Rule: If a person buys cheese they will also buy milk\n",
      " - Confidence: 0.171\n",
      " - Support: 7\n",
      "\n"
     ]
    }
   ],
   "source": [
    "for premise, conclusion in confidence1:\n",
    "    premise_name = features[premise]\n",
    "    conclusion_name = features[conclusion]\n",
    "    print(\"Rule: If a person buys {0} they will also buy {1}\".format(premise_name, conclusion_name))\n",
    "    print(\" - Confidence: {0:.3f}\".format(confidence1[(premise, conclusion)]))\n",
    "    print(\" - Support: {0}\".format(support1[(premise, conclusion)]))\n",
    "    print(\"\")"
   ]
  },
  {
   "cell_type": "code",
   "execution_count": 10,
   "metadata": {},
   "outputs": [],
   "source": [
    "def print_rule(premise, conclusion, support1, confidence1, features):\n",
    "    premise_name = features[premise]\n",
    "    conclusion_name = features[conclusion]\n",
    "    print(\"Rule: If a person buys {0} they will also buy {1}\".format(premise_name, conclusion_name))\n",
    "    print(\" - Confidence: {0:.3f}\".format(confidence1[(premise, conclusion)]))\n",
    "    print(\" - Support: {0}\".format(support1[(premise, conclusion)]))\n",
    "    print(\"\")"
   ]
  },
  {
   "cell_type": "code",
   "execution_count": 11,
   "metadata": {},
   "outputs": [
    {
     "name": "stdout",
     "output_type": "stream",
     "text": [
      "Rule: If a person buys apples they will also buy milk\n",
      " - Confidence: 0.250\n",
      " - Support: 9\n",
      "\n"
     ]
    }
   ],
   "source": [
    "premise = 3\n",
    "conclusion = 1\n",
    "print_rule(premise, conclusion, support1, confidence1, features)"
   ]
  },
  {
   "cell_type": "code",
   "execution_count": 12,
   "metadata": {},
   "outputs": [],
   "source": [
    "valid_rules2 = defaultdict(int)\n",
    "invalid_rules2 = defaultdict(int)\n",
    "num_occurances2 = defaultdict(int)\n",
    "\n",
    "for sample in X:\n",
    "    for premise1 in range(n_features):\n",
    "        if sample[premise1] == 0:\n",
    "            continue\n",
    "        for premise2 in range(n_features):\n",
    "            if sample[premise2] == 0 or premise1 == premise2:\n",
    "                continue\n",
    "            num_occurances2[(premise1,premise2)]+=1\n",
    "                \n",
    "            for conclusion in range(n_features):\n",
    "                if conclusion == premise1 or conclusion == premise2:\n",
    "                    continue\n",
    "                if sample[conclusion]==1:\n",
    "                    valid_rules2[(premise1,premise2,conclusion)]+=1\n",
    "                else:\n",
    "                    invalid_rules2[(premise1,premise2,conclusion)]+=1\n",
    "                    \n",
    "support2=valid_rules2\n",
    "confidence2 = defaultdict(float)\n",
    "\n",
    "for premise1,premise2,conclusion in valid_rules2.keys():\n",
    "    confidence2[(premise1,premise2,conclusion)] = valid_rules2[(premise1,premise2,conclusion)] / num_occurances2[(premise1,premise2)] \n",
    "    "
   ]
  },
  {
   "cell_type": "code",
   "execution_count": 12,
   "metadata": {},
   "outputs": [
    {
     "name": "stdout",
     "output_type": "stream",
     "text": [
      "Rule: If a person buys cheese and apples they will also buy bananas\n",
      " - Confidence: 0.680\n",
      " - Support: 17\n",
      "\n",
      "Rule: If a person buys cheese and bananas they will also buy apples\n",
      " - Confidence: 0.630\n",
      " - Support: 17\n",
      "\n",
      "Rule: If a person buys apples and cheese they will also buy bananas\n",
      " - Confidence: 0.680\n",
      " - Support: 17\n",
      "\n",
      "Rule: If a person buys apples and bananas they will also buy cheese\n",
      " - Confidence: 0.810\n",
      " - Support: 17\n",
      "\n",
      "Rule: If a person buys bananas and cheese they will also buy apples\n",
      " - Confidence: 0.630\n",
      " - Support: 17\n",
      "\n",
      "Rule: If a person buys bananas and apples they will also buy cheese\n",
      " - Confidence: 0.810\n",
      " - Support: 17\n",
      "\n",
      "Rule: If a person buys bread and milk they will also buy apples\n",
      " - Confidence: 0.286\n",
      " - Support: 4\n",
      "\n",
      "Rule: If a person buys bread and apples they will also buy milk\n",
      " - Confidence: 0.800\n",
      " - Support: 4\n",
      "\n",
      "Rule: If a person buys milk and bread they will also buy apples\n",
      " - Confidence: 0.286\n",
      " - Support: 4\n",
      "\n",
      "Rule: If a person buys milk and apples they will also buy bread\n",
      " - Confidence: 0.444\n",
      " - Support: 4\n",
      "\n",
      "Rule: If a person buys apples and bread they will also buy milk\n",
      " - Confidence: 0.800\n",
      " - Support: 4\n",
      "\n",
      "Rule: If a person buys apples and milk they will also buy bread\n",
      " - Confidence: 0.444\n",
      " - Support: 4\n",
      "\n",
      "Rule: If a person buys bread and cheese they will also buy apples\n",
      " - Confidence: 0.250\n",
      " - Support: 1\n",
      "\n",
      "Rule: If a person buys bread and apples they will also buy cheese\n",
      " - Confidence: 0.200\n",
      " - Support: 1\n",
      "\n",
      "Rule: If a person buys cheese and bread they will also buy apples\n",
      " - Confidence: 0.250\n",
      " - Support: 1\n",
      "\n",
      "Rule: If a person buys cheese and apples they will also buy bread\n",
      " - Confidence: 0.040\n",
      " - Support: 1\n",
      "\n",
      "Rule: If a person buys apples and bread they will also buy cheese\n",
      " - Confidence: 0.200\n",
      " - Support: 1\n",
      "\n",
      "Rule: If a person buys apples and cheese they will also buy bread\n",
      " - Confidence: 0.040\n",
      " - Support: 1\n",
      "\n",
      "Rule: If a person buys bread and milk they will also buy bananas\n",
      " - Confidence: 0.500\n",
      " - Support: 7\n",
      "\n",
      "Rule: If a person buys bread and bananas they will also buy milk\n",
      " - Confidence: 0.412\n",
      " - Support: 7\n",
      "\n",
      "Rule: If a person buys milk and bread they will also buy bananas\n",
      " - Confidence: 0.500\n",
      " - Support: 7\n",
      "\n",
      "Rule: If a person buys milk and bananas they will also buy bread\n",
      " - Confidence: 0.368\n",
      " - Support: 7\n",
      "\n",
      "Rule: If a person buys bananas and bread they will also buy milk\n",
      " - Confidence: 0.412\n",
      " - Support: 7\n",
      "\n",
      "Rule: If a person buys bananas and milk they will also buy bread\n",
      " - Confidence: 0.368\n",
      " - Support: 7\n",
      "\n",
      "Rule: If a person buys bread and milk they will also buy cheese\n",
      " - Confidence: 0.143\n",
      " - Support: 2\n",
      "\n",
      "Rule: If a person buys bread and cheese they will also buy milk\n",
      " - Confidence: 0.500\n",
      " - Support: 2\n",
      "\n",
      "Rule: If a person buys bread and cheese they will also buy bananas\n",
      " - Confidence: 0.750\n",
      " - Support: 3\n",
      "\n",
      "Rule: If a person buys bread and bananas they will also buy cheese\n",
      " - Confidence: 0.176\n",
      " - Support: 3\n",
      "\n",
      "Rule: If a person buys milk and bread they will also buy cheese\n",
      " - Confidence: 0.143\n",
      " - Support: 2\n",
      "\n",
      "Rule: If a person buys milk and cheese they will also buy bread\n",
      " - Confidence: 0.286\n",
      " - Support: 2\n",
      "\n",
      "Rule: If a person buys milk and cheese they will also buy bananas\n",
      " - Confidence: 0.571\n",
      " - Support: 4\n",
      "\n",
      "Rule: If a person buys milk and bananas they will also buy cheese\n",
      " - Confidence: 0.211\n",
      " - Support: 4\n",
      "\n",
      "Rule: If a person buys cheese and bread they will also buy milk\n",
      " - Confidence: 0.500\n",
      " - Support: 2\n",
      "\n",
      "Rule: If a person buys cheese and bread they will also buy bananas\n",
      " - Confidence: 0.750\n",
      " - Support: 3\n",
      "\n",
      "Rule: If a person buys cheese and milk they will also buy bread\n",
      " - Confidence: 0.286\n",
      " - Support: 2\n",
      "\n",
      "Rule: If a person buys cheese and milk they will also buy bananas\n",
      " - Confidence: 0.571\n",
      " - Support: 4\n",
      "\n",
      "Rule: If a person buys cheese and bananas they will also buy bread\n",
      " - Confidence: 0.111\n",
      " - Support: 3\n",
      "\n",
      "Rule: If a person buys cheese and bananas they will also buy milk\n",
      " - Confidence: 0.148\n",
      " - Support: 4\n",
      "\n",
      "Rule: If a person buys bananas and bread they will also buy cheese\n",
      " - Confidence: 0.176\n",
      " - Support: 3\n",
      "\n",
      "Rule: If a person buys bananas and milk they will also buy cheese\n",
      " - Confidence: 0.211\n",
      " - Support: 4\n",
      "\n",
      "Rule: If a person buys bananas and cheese they will also buy bread\n",
      " - Confidence: 0.111\n",
      " - Support: 3\n",
      "\n",
      "Rule: If a person buys bananas and cheese they will also buy milk\n",
      " - Confidence: 0.148\n",
      " - Support: 4\n",
      "\n",
      "Rule: If a person buys bread and apples they will also buy bananas\n",
      " - Confidence: 0.200\n",
      " - Support: 1\n",
      "\n",
      "Rule: If a person buys bread and bananas they will also buy apples\n",
      " - Confidence: 0.059\n",
      " - Support: 1\n",
      "\n",
      "Rule: If a person buys milk and apples they will also buy bananas\n",
      " - Confidence: 0.333\n",
      " - Support: 3\n",
      "\n",
      "Rule: If a person buys milk and bananas they will also buy apples\n",
      " - Confidence: 0.158\n",
      " - Support: 3\n",
      "\n",
      "Rule: If a person buys apples and bread they will also buy bananas\n",
      " - Confidence: 0.200\n",
      " - Support: 1\n",
      "\n",
      "Rule: If a person buys apples and milk they will also buy bananas\n",
      " - Confidence: 0.333\n",
      " - Support: 3\n",
      "\n",
      "Rule: If a person buys apples and bananas they will also buy bread\n",
      " - Confidence: 0.048\n",
      " - Support: 1\n",
      "\n",
      "Rule: If a person buys apples and bananas they will also buy milk\n",
      " - Confidence: 0.143\n",
      " - Support: 3\n",
      "\n",
      "Rule: If a person buys bananas and bread they will also buy apples\n",
      " - Confidence: 0.059\n",
      " - Support: 1\n",
      "\n",
      "Rule: If a person buys bananas and milk they will also buy apples\n",
      " - Confidence: 0.158\n",
      " - Support: 3\n",
      "\n",
      "Rule: If a person buys bananas and apples they will also buy bread\n",
      " - Confidence: 0.048\n",
      " - Support: 1\n",
      "\n",
      "Rule: If a person buys bananas and apples they will also buy milk\n",
      " - Confidence: 0.143\n",
      " - Support: 3\n",
      "\n",
      "Rule: If a person buys milk and cheese they will also buy apples\n",
      " - Confidence: 0.143\n",
      " - Support: 1\n",
      "\n",
      "Rule: If a person buys milk and apples they will also buy cheese\n",
      " - Confidence: 0.111\n",
      " - Support: 1\n",
      "\n",
      "Rule: If a person buys cheese and milk they will also buy apples\n",
      " - Confidence: 0.143\n",
      " - Support: 1\n",
      "\n",
      "Rule: If a person buys cheese and apples they will also buy milk\n",
      " - Confidence: 0.040\n",
      " - Support: 1\n",
      "\n",
      "Rule: If a person buys apples and milk they will also buy cheese\n",
      " - Confidence: 0.111\n",
      " - Support: 1\n",
      "\n",
      "Rule: If a person buys apples and cheese they will also buy milk\n",
      " - Confidence: 0.040\n",
      " - Support: 1\n",
      "\n"
     ]
    }
   ],
   "source": [
    "for premise1,premise2, conclusion in confidence2:\n",
    "    premise_name1 = features[premise1]\n",
    "    premise_name2 = features[premise2]\n",
    "    conclusion_name = features[conclusion]\n",
    "    print(\"Rule: If a person buys {0} and {1} they will also buy {2}\".format(premise_name1, premise_name2, conclusion_name))\n",
    "    print(\" - Confidence: {0:.3f}\".format(confidence2[(premise1,premise2, conclusion)]))\n",
    "    print(\" - Support: {0}\".format(support2[(premise1,premise2,conclusion)]))\n",
    "    print(\"\")"
   ]
  },
  {
   "cell_type": "code",
   "execution_count": 13,
   "metadata": {},
   "outputs": [],
   "source": [
    "def print_rule2(premise1,premise2,conclusion,support2,confidence2,features):\n",
    "    premise_name1 = features[premise1]\n",
    "    premise_name2 = features[premise2]\n",
    "    conclusion_name = features[conclusion]\n",
    "    print(\"Rule: If a person buys {0} and {1} they will also buy {2}\".format(premise_name1, premise_name2, conclusion_name))\n",
    "    print(\" - Confidence: {0:.3f}\".format(confidence2[(premise1,premise2, conclusion)]))\n",
    "    print(\" - Support: {0}\".format(support2[(premise1,premise2,conclusion)]))\n",
    "    print(\"\")"
   ]
  },
  {
   "cell_type": "code",
   "execution_count": 23,
   "metadata": {},
   "outputs": [
    {
     "name": "stdout",
     "output_type": "stream",
     "text": [
      "Rule: If a person buys cheese and milk they will also buy bananas\n",
      " - Confidence: 0.571\n",
      " - Support: 4\n",
      "\n"
     ]
    }
   ],
   "source": [
    "premise1= 2\n",
    "premise2 = 1\n",
    "conclusion = 4\n",
    "print_rule2(premise1,premise2,conclusion,support2,confidence2,features)"
   ]
  },
  {
   "cell_type": "code",
   "execution_count": 15,
   "metadata": {},
   "outputs": [],
   "source": [
    "def count3(X):\n",
    "    sum=0\n",
    "    for i in X:\n",
    "        sum+=i\n",
    "    return sum"
   ]
  },
  {
   "cell_type": "code",
   "execution_count": 16,
   "metadata": {},
   "outputs": [],
   "source": [
    "from pprint import pprint\n",
    "\n",
    "valid_rules3= defaultdict(int)\n",
    "invalid_rules3 = defaultdict(int)\n",
    "num_occurances3 = defaultdict(int)\n",
    "\n",
    "sum=0\n",
    "for sample in X:\n",
    "    if(count3(sample)<3):\n",
    "        continue\n",
    "    for premise1 in range(n_features-2):\n",
    "        if sample[premise1]==0:\n",
    "            continue\n",
    "        for premise2 in range(premise1+1,n_features,1):\n",
    "            if sample[premise2] == 0:\n",
    "                continue\n",
    "            for premise3 in range(premise2+1,n_features,1):\n",
    "                if sample[premise3]==0:\n",
    "                    continue\n",
    "                num_occurances3[(premise1,premise2,premise3)]+=1\n",
    "                \n",
    "                for conclusion in range(n_features):\n",
    "                    if conclusion==premise1 or conclusion==premise2 or conclusion==premise3:\n",
    "                        continue\n",
    "                    if sample[conclusion]==1:\n",
    "                        valid_rules3[(premise1,premise2,premise3,conclusion)]+=1\n",
    "                    else:\n",
    "                        invalid_rules3[(premise1,premise2,premise3,conclusion)]+=1\n",
    "                \n",
    "            \n",
    "#pprint(list(num_occurances3.items()))\n",
    "support3=valid_rules3\n",
    "confidence3=defaultdict(float)\n",
    "\n",
    "for premise1,premise2,premise3,conclusion in valid_rules3.keys():\n",
    "       confidence3[(premise1,premise2,premise3,conclusion)] = valid_rules3[(premise1,premise2,premise3,conclusion)] / num_occurances3[(premise1,premise2,premise3)]\n",
    "\n"
   ]
  },
  {
   "cell_type": "code",
   "execution_count": 17,
   "metadata": {},
   "outputs": [],
   "source": [
    "def print_rule3(premise1,premise2,premise3,conclusion,support3,confidence3,features):\n",
    "    premise_name1 = features[premise1]\n",
    "    premise_name2 = features[premise2]\n",
    "    premise_name3 = features[premise3]\n",
    "    conclusion_name = features[conclusion]\n",
    "    print(\"Rule: If a person buys {0} and {1} and {2} they will also buy {3}\".format(premise_name1, premise_name2,premise_name3, conclusion_name))\n",
    "    print(\" - Confidence: {0: .3f}\".format(confidence3[(premise1,premise2,premise3,conclusion)]))\n",
    "    print(\" - Support: {0}\".format(support3[(premise1,premise2,premise3,conclusion)]))\n",
    "    print(\"\")"
   ]
  },
  {
   "cell_type": "code",
   "execution_count": 31,
   "metadata": {},
   "outputs": [
    {
     "name": "stdout",
     "output_type": "stream",
     "text": [
      "Rule: If a person buys bread and milk and cheese they will also buy bananas\n",
      " - Confidence:  1.000\n",
      " - Support: 2\n",
      "\n"
     ]
    }
   ],
   "source": [
    "premise1= 0\n",
    "premise2 = 1\n",
    "premise3 = 2\n",
    "conclusion = 4\n",
    "print_rule3(premise1,premise2,premise3,conclusion,support3,confidence3,features)"
   ]
  },
  {
   "cell_type": "code",
   "execution_count": 19,
   "metadata": {},
   "outputs": [
    {
     "name": "stdout",
     "output_type": "stream",
     "text": [
      "[((0, 1, 2, 4), 2),\n",
      " ((0, 1, 4, 2), 2),\n",
      " ((0, 2, 4, 1), 2),\n",
      " ((1, 2, 4, 0), 2),\n",
      " ((0, 1, 3, 4), 1),\n",
      " ((0, 1, 4, 3), 1),\n",
      " ((0, 3, 4, 1), 1),\n",
      " ((1, 3, 4, 0), 1),\n",
      " ((1, 2, 3, 4), 1),\n",
      " ((1, 2, 4, 3), 1),\n",
      " ((1, 3, 4, 2), 1),\n",
      " ((2, 3, 4, 1), 1)]\n"
     ]
    }
   ],
   "source": [
    "pprint(list(valid_rules3.items()))"
   ]
  },
  {
   "cell_type": "code",
   "execution_count": 20,
   "metadata": {},
   "outputs": [],
   "source": [
    "from operator import itemgetter\n",
    "sorted_support1 = sorted(support1.items(), key=itemgetter(1), reverse=True)"
   ]
  },
  {
   "cell_type": "code",
   "execution_count": 21,
   "metadata": {},
   "outputs": [
    {
     "name": "stdout",
     "output_type": "stream",
     "text": [
      "Rule #1\n",
      "Rule: If a person buys cheese they will also buy bananas\n",
      " - Confidence: 0.659\n",
      " - Support: 27\n",
      "\n",
      "Rule #2\n",
      "Rule: If a person buys bananas they will also buy cheese\n",
      " - Confidence: 0.458\n",
      " - Support: 27\n",
      "\n",
      "Rule #3\n",
      "Rule: If a person buys cheese they will also buy apples\n",
      " - Confidence: 0.610\n",
      " - Support: 25\n",
      "\n",
      "Rule #4\n",
      "Rule: If a person buys apples they will also buy cheese\n",
      " - Confidence: 0.694\n",
      " - Support: 25\n",
      "\n",
      "Rule #5\n",
      "Rule: If a person buys apples they will also buy bananas\n",
      " - Confidence: 0.583\n",
      " - Support: 21\n",
      "\n"
     ]
    }
   ],
   "source": [
    "for index in range(5):\n",
    "    print(\"Rule #{0}\".format(index + 1))\n",
    "    (premise, conclusion) = sorted_support1[index][0]\n",
    "    print_rule(premise, conclusion, support1, confidence1, features)"
   ]
  },
  {
   "cell_type": "code",
   "execution_count": 25,
   "metadata": {},
   "outputs": [],
   "source": [
    "sorted_support2=sorted(support2.items(),key=itemgetter(1),reverse=True)"
   ]
  },
  {
   "cell_type": "code",
   "execution_count": 26,
   "metadata": {},
   "outputs": [
    {
     "name": "stdout",
     "output_type": "stream",
     "text": [
      "Rule #1\n",
      "Rule: If a person buys cheese and apples they will also buy bananas\n",
      " - Confidence: 0.680\n",
      " - Support: 17\n",
      "\n",
      "Rule #2\n",
      "Rule: If a person buys cheese and bananas they will also buy apples\n",
      " - Confidence: 0.630\n",
      " - Support: 17\n",
      "\n",
      "Rule #3\n",
      "Rule: If a person buys apples and cheese they will also buy bananas\n",
      " - Confidence: 0.680\n",
      " - Support: 17\n",
      "\n",
      "Rule #4\n",
      "Rule: If a person buys apples and bananas they will also buy cheese\n",
      " - Confidence: 0.810\n",
      " - Support: 17\n",
      "\n",
      "Rule #5\n",
      "Rule: If a person buys bananas and cheese they will also buy apples\n",
      " - Confidence: 0.630\n",
      " - Support: 17\n",
      "\n"
     ]
    }
   ],
   "source": [
    "for index in range(5):\n",
    "    print(\"Rule #{0}\".format(index + 1))\n",
    "    (premise1,premise2, conclusion) = sorted_support2[index][0]\n",
    "    print_rule2(premise1,premise2, conclusion, support2, confidence2, features)"
   ]
  },
  {
   "cell_type": "code",
   "execution_count": 29,
   "metadata": {},
   "outputs": [],
   "source": [
    "sorted_support3=sorted(support3.items(),key=itemgetter(1),reverse=True)"
   ]
  },
  {
   "cell_type": "code",
   "execution_count": 30,
   "metadata": {},
   "outputs": [
    {
     "name": "stdout",
     "output_type": "stream",
     "text": [
      "Rule #1\n",
      "Rule: If a person buys bread and milk and cheese they will also buy bananas\n",
      " - Confidence:  1.000\n",
      " - Support: 2\n",
      "\n",
      "Rule #2\n",
      "Rule: If a person buys bread and milk and bananas they will also buy cheese\n",
      " - Confidence:  0.286\n",
      " - Support: 2\n",
      "\n",
      "Rule #3\n",
      "Rule: If a person buys bread and cheese and bananas they will also buy milk\n",
      " - Confidence:  0.667\n",
      " - Support: 2\n",
      "\n",
      "Rule #4\n",
      "Rule: If a person buys milk and cheese and bananas they will also buy bread\n",
      " - Confidence:  0.500\n",
      " - Support: 2\n",
      "\n",
      "Rule #5\n",
      "Rule: If a person buys bread and milk and apples they will also buy bananas\n",
      " - Confidence:  0.250\n",
      " - Support: 1\n",
      "\n"
     ]
    }
   ],
   "source": [
    "for index in range(5):\n",
    "    print(\"Rule #{0}\".format(index + 1))\n",
    "    (premise1,premise2,premise3, conclusion) = sorted_support3[index][0]\n",
    "    print_rule3(premise1,premise2,premise3, conclusion, support3, confidence3, features)"
   ]
  },
  {
   "cell_type": "code",
   "execution_count": null,
   "metadata": {},
   "outputs": [],
   "source": []
  }
 ],
 "metadata": {
  "kernelspec": {
   "display_name": "Python 3",
   "language": "python",
   "name": "python3"
  },
  "language_info": {
   "codemirror_mode": {
    "name": "ipython",
    "version": 3
   },
   "file_extension": ".py",
   "mimetype": "text/x-python",
   "name": "python",
   "nbconvert_exporter": "python",
   "pygments_lexer": "ipython3",
   "version": "3.7.1"
  }
 },
 "nbformat": 4,
 "nbformat_minor": 2
}
